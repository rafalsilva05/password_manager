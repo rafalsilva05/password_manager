{
 "cells": [
  {
   "cell_type": "code",
   "execution_count": 1,
   "metadata": {},
   "outputs": [
    {
     "name": "stdout",
     "output_type": "stream",
     "text": [
      "   name    pwd\n",
      "0  rafa    oii\n",
      "1    nn  laele\n",
      "   name    pwd\n",
      "0  rafa    oii\n",
      "1    nn  laele\n"
     ]
    }
   ],
   "source": [
    "import pandas as pd\n",
    "from cryptography.fernet import Fernet\n",
    "\n",
    "table = pd.DataFrame({'name':[\"rafa\", \"nn\"], 'pwd':[\"oii\", \"laele\"]})\n",
    "\n",
    "print(table)\n",
    "\n",
    "new_table = pd.DataFrame({'name':[],'pwd':[]})\n",
    "for i in table.index:\n",
    "    new_table.loc[len(new_table.index)] = table.loc[i]\n",
    "\n",
    "print(new_table)"
   ]
  }
 ],
 "metadata": {
  "kernelspec": {
   "display_name": "password-manager-ssNi0v5A-py3.11",
   "language": "python",
   "name": "python3"
  },
  "language_info": {
   "codemirror_mode": {
    "name": "ipython",
    "version": 3
   },
   "file_extension": ".py",
   "mimetype": "text/x-python",
   "name": "python",
   "nbconvert_exporter": "python",
   "pygments_lexer": "ipython3",
   "version": "3.11.4"
  }
 },
 "nbformat": 4,
 "nbformat_minor": 2
}
