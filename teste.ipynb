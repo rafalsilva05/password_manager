{
 "cells": [
  {
   "cell_type": "code",
   "execution_count": 52,
   "metadata": {},
   "outputs": [
    {
     "name": "stdout",
     "output_type": "stream",
     "text": [
      "       name     pwd\n",
      "0      rafa     oii\n",
      "1        nn   laele\n",
      "2  Gigachad  235486\n",
      "        name     pwd\n",
      "10      rafa     oii\n",
      "11        nn   laele\n",
      "12  Gigachad  235486\n",
      "   index      name     pwd\n",
      "0      0        []      []\n",
      "1     10      rafa     oii\n",
      "2     11        nn   laele\n",
      "3     12  Gigachad  235486\n",
      "Index([2], dtype='int64')\n"
     ]
    }
   ],
   "source": [
    "import pandas as pd\n",
    "#from cryptography.fernet import Fernet\n",
    "\n",
    "table = pd.DataFrame({'name':[\"rafa\", \"nn\", \"Gigachad\"], 'pwd':[\"oii\", \"laele\", \"235486\"]})\n",
    "\n",
    "new_table = pd.DataFrame([{'name':[], 'pwd':[]}])\n",
    "for i in table.index:\n",
    "    new_table.loc[i+10] = table.loc[i]\n",
    "\n",
    "new_table.drop(0)\n",
    "\n",
    "print(table)\n",
    "print(new_table.drop(0))\n",
    "\n",
    "#new_table.reset_index()\n",
    "print(new_table.reset_index())\n",
    "\n",
    "i = table.loc[(table.name == 'Gigachad')].index\n",
    "print(i)\n"
   ]
  }
 ],
 "metadata": {
  "kernelspec": {
   "display_name": "password-manager-ssNi0v5A-py3.11",
   "language": "python",
   "name": "python3"
  },
  "language_info": {
   "codemirror_mode": {
    "name": "ipython",
    "version": 3
   },
   "file_extension": ".py",
   "mimetype": "text/x-python",
   "name": "python",
   "nbconvert_exporter": "python",
   "pygments_lexer": "ipython3",
   "version": "3.11.4"
  }
 },
 "nbformat": 4,
 "nbformat_minor": 2
}
