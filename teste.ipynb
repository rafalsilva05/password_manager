{
 "cells": [
  {
   "cell_type": "code",
   "execution_count": 14,
   "metadata": {},
   "outputs": [
    {
     "name": "stdout",
     "output_type": "stream",
     "text": [
      "name    rafa\n",
      "pwd      oii\n",
      "Name: 0, dtype: object\n",
      "oii\n"
     ]
    },
    {
     "name": "stderr",
     "output_type": "stream",
     "text": [
      "C:\\Users\\Rafa\\AppData\\Local\\Temp\\ipykernel_11576\\3224966424.py:7: FutureWarning: Series.__getitem__ treating keys as positions is deprecated. In a future version, integer keys will always be treated as labels (consistent with DataFrame behavior). To access a value by position, use `ser.iloc[pos]`\n",
      "  print(row[1])\n"
     ]
    }
   ],
   "source": [
    "import pandas as pd\n",
    "from cryptography.fernet import Fernet\n",
    "\n",
    "table = pd.DataFrame({'name':[\"rafa\", \"nn\"], 'pwd':[\"oii\", \"laele\"]})\n",
    "row = table.loc[0]\n",
    "print(row)\n",
    "print(row[1])"
   ]
  }
 ],
 "metadata": {
  "kernelspec": {
   "display_name": "password-manager-ssNi0v5A-py3.11",
   "language": "python",
   "name": "python3"
  },
  "language_info": {
   "codemirror_mode": {
    "name": "ipython",
    "version": 3
   },
   "file_extension": ".py",
   "mimetype": "text/x-python",
   "name": "python",
   "nbconvert_exporter": "python",
   "pygments_lexer": "ipython3",
   "version": "3.11.4"
  }
 },
 "nbformat": 4,
 "nbformat_minor": 2
}
