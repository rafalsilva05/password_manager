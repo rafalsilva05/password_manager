{
 "cells": [
  {
   "cell_type": "code",
   "execution_count": 1,
   "metadata": {},
   "outputs": [],
   "source": [
    "class User:\n",
    "    def __init__(self, name, pswd) -> None:\n",
    "        self.name = name\n",
    "        self.pswd = pswd\n",
    "\n",
    "    def __str__(self) -> str:\n",
    "        return f\"{self.name}\"\n",
    "\n",
    "a = User(\"nome\", \"senha\")\n",
    "a= None"
   ]
  },
  {
   "cell_type": "code",
   "execution_count": 2,
   "metadata": {},
   "outputs": [
    {
     "name": "stdout",
     "output_type": "stream",
     "text": [
      "{'name': 'nome', 'pswd': 'senha'}\n"
     ]
    }
   ],
   "source": [
    "if a:\n",
    "    print(a.__dict__)\n",
    "else:\n",
    "    print('cu')"
   ]
  }
 ],
 "metadata": {
  "kernelspec": {
   "display_name": "password-manager-ssNi0v5A-py3.11",
   "language": "python",
   "name": "python3"
  },
  "language_info": {
   "codemirror_mode": {
    "name": "ipython",
    "version": 3
   },
   "file_extension": ".py",
   "mimetype": "text/x-python",
   "name": "python",
   "nbconvert_exporter": "python",
   "pygments_lexer": "ipython3",
   "version": "3.11.4"
  }
 },
 "nbformat": 4,
 "nbformat_minor": 2
}
